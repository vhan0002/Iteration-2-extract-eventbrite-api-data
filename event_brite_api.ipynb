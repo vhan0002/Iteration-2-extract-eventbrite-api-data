{
 "cells": [
  {
   "cell_type": "markdown",
   "metadata": {},
   "source": [
    "###  Events information such as event name, event date and time with venue location are retrieved from eventbrite api"
   ]
  },
  {
   "cell_type": "markdown",
   "metadata": {},
   "source": [
    "# Table of contents\n",
    "\n",
    "### 1. Library\n",
    "### 2. Setting up eventbrite api\n",
    "### 3. Find all activities from api + including all pages\n",
    "### 4. API URL builder\n",
    "### 5. URL shortner\n",
    "### 6. Searching events\n",
    "\n",
    "### Reference"
   ]
  },
  {
   "cell_type": "markdown",
   "metadata": {},
   "source": [
    "# 1. Library"
   ]
  },
  {
   "cell_type": "code",
   "execution_count": 1,
   "metadata": {},
   "outputs": [],
   "source": [
    "from pandas.io.json import json_normalize\n",
    "import pandas as pd\n",
    "import json\n",
    "import re\n",
    "import requests\n",
    "import warnings\n",
    "warnings.filterwarnings(\"ignore\")\n",
    "from datetime import datetime\n",
    "from dateutil import tz\n",
    "import numpy as np"
   ]
  },
  {
   "cell_type": "markdown",
   "metadata": {},
   "source": [
    "## 2. Setting up eventbrite api"
   ]
  },
  {
   "cell_type": "code",
   "execution_count": 2,
   "metadata": {},
   "outputs": [
    {
     "name": "stdout",
     "output_type": "stream",
     "text": [
      "333703320445\n",
      "vikram patil\n"
     ]
    }
   ],
   "source": [
    "from eventbrite import Eventbrite\n",
    "eventbrite = Eventbrite('api-key')\n",
    "user = eventbrite.get_user()  # Not passing an argument returns yourself\n",
    "apiKey='api-key'\n",
    "print(user['id'])\n",
    "\n",
    "print(user['name'])"
   ]
  },
  {
   "cell_type": "markdown",
   "metadata": {},
   "source": [
    "## 3. Find all activities from api + including all pages"
   ]
  },
  {
   "cell_type": "code",
   "execution_count": 9,
   "metadata": {},
   "outputs": [],
   "source": [
    "# Below method converts the date and time from UTC to Austalia/Melbourne time\n",
    "\n",
    "def convert_date(date):\n",
    "    ################################\n",
    "    # parent method = find_events()\n",
    "    # input = UTC date   \n",
    "    #output = Melboure date and time\n",
    "    ################################\n",
    "    # METHOD 1: Hardcode zones:\n",
    "    from_zone = tz.gettz('UTC')\n",
    "    to_zone = tz.gettz('Australia/Melbourne')\n",
    "    date=str(date)\n",
    "\n",
    "    utc = datetime.strptime(date, '%Y-%m-%d %H:%M:%S')\n",
    "    utc = utc.replace(tzinfo=from_zone)\n",
    "\n",
    "    # Convert time zone\n",
    "    central = utc.astimezone(to_zone)\n",
    "    date=central.date()\n",
    "    time=central.time()\n",
    "    return pd.Series([date,time])\n",
    "\n",
    "\n",
    "\n",
    "# Below method find the required events information such as event lcoation, name, image and etc\n",
    "def find_events(url,event_cat,event_name):\n",
    "    ################################\n",
    "    # parent method = find_activities()\n",
    "    # input:\n",
    "        # url - eventbrite specific url\n",
    "        # event_cat - outdoor,indoor,special needs, hobbies\n",
    "        # event_name - 18 events are present\n",
    "        \n",
    "    #output = all event details are fetched\n",
    "    ################################\n",
    "    total_data=pd.DataFrame()\n",
    "    \n",
    "    \n",
    "    response=requests.get(url)\n",
    "    resp_json_payload2 = response.json()\n",
    "\n",
    "    start_page = resp_json_payload2['pagination']['page_number']\n",
    "    last_page = resp_json_payload2['pagination']['page_count']\n",
    "\n",
    "    ##################################\n",
    "    # If api has mroe than one page results\n",
    "    if resp_json_payload2['pagination']['page_count'] >1 :\n",
    "\n",
    "        for i in range(1,last_page+1):\n",
    "            new_url=url+'&page={}'.format(i)\n",
    "            response=requests.get(new_url)\n",
    "            resp_json = response.json()\n",
    "            data=json_normalize(resp_json['events'])\n",
    "            #col=['category_id','name.text','summary','is_free','start.utc','end.utc','status','url']\n",
    "            col=['name.text','is_free','start.utc','end.utc','status','url','venue.address.latitude',\\\n",
    "                 'venue.address.longitude','venue.address.localized_address_display','venue.address.postal_code',\\\n",
    "                 'venue.address.city','logo.original.url','logo.original.height','logo.original.width','venue.name']\n",
    "            data=data[col]\n",
    "            total_data=total_data.append(data,ignore_index=True)\n",
    "\n",
    "    # if api has single page result\n",
    "    else:\n",
    "        new_url=url\n",
    "        response=requests.get(new_url)\n",
    "        resp_json = response.json()\n",
    "        data=json_normalize(resp_json['events'])\n",
    "        #col=['category_id','name.text','summary','is_free','start.utc','end.utc','status','url']\n",
    "        col=['name.text','is_free','start.utc','end.utc','status','url','venue.address.latitude',\\\n",
    "                 'venue.address.longitude','venue.address.localized_address_display','venue.address.postal_code',\\\n",
    "                 'venue.address.city','logo.original.url','logo.original.height','logo.original.width','venue.name']\n",
    "        data=data[col]\n",
    "        total_data=total_data.append(data,ignore_index=True)\n",
    "\n",
    "    total_data['event_sub_cat']=event_name\n",
    "    total_data['event_cat']=event_cat\n",
    "    \n",
    "    \n",
    "    total_data['start.utc']=pd.to_datetime(total_data['start.utc'])\n",
    "    total_data[['start_date','start_time']]=total_data.apply(lambda x:convert_date(x['start.utc']) ,axis=1)\n",
    "    \n",
    "    total_data['end.utc']=pd.to_datetime(total_data['end.utc'])\n",
    "    total_data[['end_date','end_time']]=total_data.apply(lambda x:convert_date(x['end.utc']) ,axis=1)\n",
    "\n",
    "    \n",
    "    \n",
    "    return total_data"
   ]
  },
  {
   "cell_type": "markdown",
   "metadata": {},
   "source": [
    "### 4. API url builder"
   ]
  },
  {
   "cell_type": "code",
   "execution_count": 25,
   "metadata": {},
   "outputs": [],
   "source": [
    "def find_activities(event_name_list,event_cat,km):\n",
    "     ################################\n",
    "    # input:\n",
    "        # event_name_list - this is sub category of events to be searched\n",
    "        # event_cat - this contains the main category of events such as - outdoor, indoor, hobbies and special needs\n",
    "        # km - 100 km coverage area\n",
    "        \n",
    "    #output = dataframe of final result is sent\n",
    "    ################################\n",
    "    total_df = pd.DataFrame()\n",
    "    for each_event in event_name_list:\n",
    "        url = ('https://www.eventbriteapi.com/v3/events/search/?location.address={}&expand=venue&token={}&location.within={}&q={}'\\\n",
    "               .format('Melbourne',apiKey,km,each_event))\n",
    "\n",
    "        df=find_events(url,event_cat,each_event)\n",
    "        df.rename(columns={'name.text':'event_short_des','venue.address.latitude':'venue_lat',\\\n",
    "                           'venue.address.longitude':'venue_lon',\\\n",
    "                             'venue.address.localized_address_display':'venue_address','venue.address.postal_code':'postcode',\\\n",
    "                             'venue.address.city':'suburb','url':'event_url','logo.original.url':'event_image_url',\\\n",
    "                           'logo.original.height':'event_img_original_height',\\\n",
    "                           'logo.original.width':'event_img_original_width',\n",
    "                           'venue.name':'venue_name'},inplace=True)\n",
    "        df=df[['postcode','suburb','event_cat','event_sub_cat','event_short_des','is_free','start_date','start_time','end_date',\\\n",
    "                         'end_time','status','event_url','venue_lat','venue_lon','venue_name','venue_address','event_image_url',\\\n",
    "              'event_img_original_height','event_img_original_width']]\n",
    "        total_df=total_df.append(df)\n",
    "    \n",
    "    total_df['event_img_original_width'].fillna(0, inplace=True)\n",
    "    total_df['event_img_original_width']=total_df.event_img_original_width.astype(int)\n",
    "    total_df['event_img_original_height'].fillna(0, inplace=True)\n",
    "    total_df['event_img_original_height']=total_df.event_img_original_height.astype(int)\n",
    "    total_df['nationality']='Australia'\n",
    "    total_df['event_show_map']='True'\n",
    "    total_df['event_show_map_link']='True'\n",
    "\n",
    "    total_df.reset_index(drop=True,inplace=True)\n",
    "    \n",
    "    return total_df"
   ]
  },
  {
   "cell_type": "markdown",
   "metadata": {},
   "source": [
    "### 5. URL shortner"
   ]
  },
  {
   "cell_type": "code",
   "execution_count": 1,
   "metadata": {},
   "outputs": [],
   "source": [
    "# this method accepts long url and shortens it using tinyurl\n",
    "\n",
    "import pyshorteners\n",
    "from pyshorteners import Shorteners\n",
    "\n",
    "def short_url(url):\n",
    "    s = pyshorteners.Shortener(Shorteners.TINYURL, timeout=9000)\n",
    "    try:\n",
    "        short_url = s.short(url)\n",
    "        shorturl = '[img src=\"{}\"]'.format(short_url)\n",
    "    except:\n",
    "        #print('ERROR: {}'.format(url))\n",
    "        shorturl=np.nan\n",
    "    return shorturl"
   ]
  },
  {
   "cell_type": "markdown",
   "metadata": {},
   "source": [
    "## 6. Searching events"
   ]
  },
  {
   "cell_type": "code",
   "execution_count": 27,
   "metadata": {},
   "outputs": [],
   "source": [
    "event_name_list=['Seniors Festival','Cafe Walks','Park Walks','Networking','Tour','Spirituality','Healthy and Active Session']\n",
    "event_cat='Outdoor'\n",
    "km='100km'\n",
    "\n",
    "\n",
    "outdoor_df = find_activities(event_name_list,event_cat,km)"
   ]
  },
  {
   "cell_type": "code",
   "execution_count": 32,
   "metadata": {},
   "outputs": [
    {
     "data": {
      "text/plain": [
       "(2593, 22)"
      ]
     },
     "execution_count": 32,
     "metadata": {},
     "output_type": "execute_result"
    }
   ],
   "source": [
    "outdoor_df.shape"
   ]
  },
  {
   "cell_type": "code",
   "execution_count": 31,
   "metadata": {},
   "outputs": [],
   "source": [
    "event_name_list=['Seniors at Home','Computers for Seniors','yoga for Seniors','Tai Chi for Seniors','Book Club Seniors',\\\n",
    "                'Comedy Show']\n",
    "event_cat='Indoor'\n",
    "km='100km'\n",
    "\n",
    "\n",
    "indoor_df = find_activities(event_name_list,event_cat,km)"
   ]
  },
  {
   "cell_type": "code",
   "execution_count": 33,
   "metadata": {},
   "outputs": [
    {
     "data": {
      "text/plain": [
       "(135, 22)"
      ]
     },
     "execution_count": 33,
     "metadata": {},
     "output_type": "execute_result"
    }
   ],
   "source": [
    "indoor_df.shape"
   ]
  },
  {
   "cell_type": "code",
   "execution_count": 35,
   "metadata": {},
   "outputs": [
    {
     "data": {
      "text/plain": [
       "(224, 22)"
      ]
     },
     "execution_count": 35,
     "metadata": {},
     "output_type": "execute_result"
    }
   ],
   "source": [
    "event_name_list=['Art therapy for Seniors','Music for Seniors','Table Tennis','Vertical Gardens','Seniors Week',\\\n",
    "                'Cooking Classes','Pottery Classes','Poetry Classes','Trivia']\n",
    "event_cat='Hobbies'\n",
    "km='100km'\n",
    "\n",
    "\n",
    "hobbies_df = find_activities(event_name_list,event_cat,km)\n",
    "hobbies_df.shape"
   ]
  },
  {
   "cell_type": "code",
   "execution_count": 36,
   "metadata": {},
   "outputs": [
    {
     "data": {
      "text/plain": [
       "(70, 22)"
      ]
     },
     "execution_count": 36,
     "metadata": {},
     "output_type": "execute_result"
    }
   ],
   "source": [
    "event_name_list=['Dementia','Sensory Activities',\\\n",
    "                 'Craft Club']\n",
    "event_cat='Special Needs'\n",
    "km='100km'\n",
    "\n",
    "\n",
    "special_df = find_activities(event_name_list,event_cat,km)\n",
    "special_df.shape"
   ]
  },
  {
   "cell_type": "code",
   "execution_count": 44,
   "metadata": {},
   "outputs": [
    {
     "data": {
      "text/plain": [
       "(2825, 22)"
      ]
     },
     "execution_count": 44,
     "metadata": {},
     "output_type": "execute_result"
    }
   ],
   "source": [
    "final_df = pd.concat([outdoor_df,indoor_df,hobbies_df,special_df])\n",
    "final_df=final_df[~final_df['suburb'].isnull()]\n",
    "final_df=final_df[~final_df['postcode'].isnull()]\n",
    "final_df.reset_index(drop=True,inplace=True)\n",
    "\n",
    "final_df.shape"
   ]
  },
  {
   "cell_type": "code",
   "execution_count": 45,
   "metadata": {},
   "outputs": [],
   "source": [
    "final_df['is_free'] = final_df['is_free'] .map({True: 'Free', False: 'Charged'})\n",
    "final_df['event_image_url']=final_df.apply(lambda x:short_url(x['event_image_url']),axis=1)\n",
    "event_df=final_df[~final_df['event_image_url'].isnull()]\n",
    "event_df['event_sub_cat']=event_df['event_sub_cat']+','+event_df['suburb']\n",
    "event_df['data_type']='eventbrite'\n",
    "event_df.to_csv('final_eventbrite.csv',index=False)"
   ]
  },
  {
   "cell_type": "markdown",
   "metadata": {},
   "source": [
    "# Reference\n",
    "\n",
    "1. https://github.com/ellisonleao/pyshorteners/issues/117\n"
   ]
  }
 ],
 "metadata": {
  "kernelspec": {
   "display_name": "Python [default]",
   "language": "python",
   "name": "python3"
  },
  "language_info": {
   "codemirror_mode": {
    "name": "ipython",
    "version": 3
   },
   "file_extension": ".py",
   "mimetype": "text/x-python",
   "name": "python",
   "nbconvert_exporter": "python",
   "pygments_lexer": "ipython3",
   "version": "3.6.6"
  }
 },
 "nbformat": 4,
 "nbformat_minor": 2
}
